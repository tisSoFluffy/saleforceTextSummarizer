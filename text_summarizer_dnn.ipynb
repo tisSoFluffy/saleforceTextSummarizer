{
 "cells": [
  {
   "cell_type": "code",
   "execution_count": 14,
   "metadata": {},
   "outputs": [],
   "source": [
    "df = pd.read_csv('corpus_1.csv')"
   ]
  },
  {
   "cell_type": "code",
   "execution_count": 28,
   "metadata": {},
   "outputs": [],
   "source": [
    "df1= pd.read_csv('summary.csv')"
   ]
  },
  {
   "cell_type": "code",
   "execution_count": 49,
   "metadata": {},
   "outputs": [
    {
     "data": {
      "text/html": [
       "<div>\n",
       "<style scoped>\n",
       "    .dataframe tbody tr th:only-of-type {\n",
       "        vertical-align: middle;\n",
       "    }\n",
       "\n",
       "    .dataframe tbody tr th {\n",
       "        vertical-align: top;\n",
       "    }\n",
       "\n",
       "    .dataframe thead th {\n",
       "        text-align: right;\n",
       "    }\n",
       "</style>\n",
       "<table border=\"1\" class=\"dataframe\">\n",
       "  <thead>\n",
       "    <tr style=\"text-align: right;\">\n",
       "      <th></th>\n",
       "      <th>Unnamed: 0</th>\n",
       "      <th>0</th>\n",
       "      <th>1</th>\n",
       "      <th>cleaned_text</th>\n",
       "      <th>summary</th>\n",
       "    </tr>\n",
       "  </thead>\n",
       "  <tbody>\n",
       "    <tr>\n",
       "      <th>0</th>\n",
       "      <td>0</td>\n",
       "      <td>https://www.salesforce.com/products/commerce-c...</td>\n",
       "      <td>\\n\\n\\n\\n\\n\\n\\n\\n\\n\\n\\n\\n\\n\\n\\n\\n\\n\\n\\n\\n\\nGrow...</td>\n",
       "      <td>Grow your business faster with Commerce Cloud....</td>\n",
       "      <td>Stay ahead of your customers with a single, a...</td>\n",
       "    </tr>\n",
       "    <tr>\n",
       "      <th>1</th>\n",
       "      <td>1</td>\n",
       "      <td>https://www.salesforce.com/products/commerce-c...</td>\n",
       "      <td>\\n\\n\\n\\n\\n\\n\\n\\n\\n\\n\\n\\n\\n\\n\\n\\n\\n\\n\\n\\n\\nB2C ...</td>\n",
       "      <td>B2C eCommerce - Salesforce.comSkip to content ...</td>\n",
       "      <td>B2C eCommerce - Salesforce.comSkip to content...</td>\n",
       "    </tr>\n",
       "    <tr>\n",
       "      <th>2</th>\n",
       "      <td>2</td>\n",
       "      <td>https://www.salesforce.com/products/commerce-c...</td>\n",
       "      <td>\\n\\n\\n\\n\\n\\n\\n\\n\\n\\n\\n\\n\\n\\n\\n\\n\\n\\n\\n\\n\\nB2B ...</td>\n",
       "      <td>B2B Ecommerce Built Natively on Salesforce - S...</td>\n",
       "      <td>B2B Ecommerce Built Natively on Salesforce - ...</td>\n",
       "    </tr>\n",
       "    <tr>\n",
       "      <th>3</th>\n",
       "      <td>3</td>\n",
       "      <td>https://www.salesforce.com/products/commerce-c...</td>\n",
       "      <td>\\n\\n\\n\\n\\n\\n\\n\\n\\n\\n\\n\\n\\n\\n\\n\\n\\n\\n\\n\\n\\nMast...</td>\n",
       "      <td>Master Mobile Commerce with Commerce Cloud - S...</td>\n",
       "      <td>Master Mobile Commerce with Commerce Cloud - ...</td>\n",
       "    </tr>\n",
       "    <tr>\n",
       "      <th>4</th>\n",
       "      <td>4</td>\n",
       "      <td>https://www.salesforce.com/blog/predictions-pu...</td>\n",
       "      <td>\\n\\n\\n\\n\\n\\n\\n\\n\\n\\n\\n\\n\\nHow Public Sector Or...</td>\n",
       "      <td>How Public Sector Organizations Will Transform...</td>\n",
       "      <td>How Public Sector Organizations Will Transfor...</td>\n",
       "    </tr>\n",
       "  </tbody>\n",
       "</table>\n",
       "</div>"
      ],
      "text/plain": [
       "   Unnamed: 0                                                  0  \\\n",
       "0           0  https://www.salesforce.com/products/commerce-c...   \n",
       "1           1  https://www.salesforce.com/products/commerce-c...   \n",
       "2           2  https://www.salesforce.com/products/commerce-c...   \n",
       "3           3  https://www.salesforce.com/products/commerce-c...   \n",
       "4           4  https://www.salesforce.com/blog/predictions-pu...   \n",
       "\n",
       "                                                   1  \\\n",
       "0  \\n\\n\\n\\n\\n\\n\\n\\n\\n\\n\\n\\n\\n\\n\\n\\n\\n\\n\\n\\n\\nGrow...   \n",
       "1  \\n\\n\\n\\n\\n\\n\\n\\n\\n\\n\\n\\n\\n\\n\\n\\n\\n\\n\\n\\n\\nB2C ...   \n",
       "2  \\n\\n\\n\\n\\n\\n\\n\\n\\n\\n\\n\\n\\n\\n\\n\\n\\n\\n\\n\\n\\nB2B ...   \n",
       "3  \\n\\n\\n\\n\\n\\n\\n\\n\\n\\n\\n\\n\\n\\n\\n\\n\\n\\n\\n\\n\\nMast...   \n",
       "4  \\n\\n\\n\\n\\n\\n\\n\\n\\n\\n\\n\\n\\nHow Public Sector Or...   \n",
       "\n",
       "                                        cleaned_text  \\\n",
       "0  Grow your business faster with Commerce Cloud....   \n",
       "1  B2C eCommerce - Salesforce.comSkip to content ...   \n",
       "2  B2B Ecommerce Built Natively on Salesforce - S...   \n",
       "3  Master Mobile Commerce with Commerce Cloud - S...   \n",
       "4  How Public Sector Organizations Will Transform...   \n",
       "\n",
       "                                             summary  \n",
       "0   Stay ahead of your customers with a single, a...  \n",
       "1   B2C eCommerce - Salesforce.comSkip to content...  \n",
       "2   B2B Ecommerce Built Natively on Salesforce - ...  \n",
       "3   Master Mobile Commerce with Commerce Cloud - ...  \n",
       "4   How Public Sector Organizations Will Transfor...  "
      ]
     },
     "execution_count": 49,
     "metadata": {},
     "output_type": "execute_result"
    }
   ],
   "source": [
    "df1.head()"
   ]
  },
  {
   "cell_type": "code",
   "execution_count": 46,
   "metadata": {},
   "outputs": [],
   "source": [
    "df['1'].replace('\\d*[-]*\\d{3}-\\d{3}-\\d{4}', '', regex=True, inplace=True)"
   ]
  },
  {
   "cell_type": "code",
   "execution_count": 47,
   "metadata": {},
   "outputs": [
    {
     "data": {
      "text/plain": [
       "\"Grow your business faster with Commerce Cloud. - Salesforce.comSkip to content                            Commerce Cloud                                                         OverviewB2C CommerceB2B CommerceOrder ManagementSolutionsTechnology PartnersPricingResourcesFAQOverviewB2C CommerceB2B CommerceOrder ManagementSolutionsTechnology PartnersPricingResourcesFAQQUESTIONS?                CALL US                            1-            Questions?                CALL US                            1-            \\xa0    \\xa0    \\xa0    Get the latest Commerce video content from Salesforce. Watch Now >Get the latest Commerce video content from Salesforce. Watch Now\\xa0>\\xa0                                Grow faster with ecommerce built around your customers.                                                         Stay ahead of your customers with a single, agile commerce platform built on the world's #1 CRM.\\xa0                                  watch demos                                        \\xa0                                When work flows, orders grow.                                                         \\xa0    When you connect Commerce Cloud 360 and Slack, you can collaborate and adapt quickly, unify the customer journey, and drive success from anywhere with customer-centric commerce built for every industry.                              See how Slack works              \\xa0    \\xa0                                What’s new in commerce?                                                         \\xa0    \\xa0                                state of commerce                                                                                     See emerging commerce trends from nearly 1,400 leaders and 1 billion buyers.                                                         \\xa0                                Product Launch                                                                                     Go digital faster. See the newly released innovations across Digital 360.                                                         \\xa0                                Spring ’22 Product Release                                                                                     Create deeper customer relationships that drive growth.                                                         \\xa0    \\xa0    \\xa0    \\xa0                                Wednesday, June 2                                                                                     Break boundaries. Create connections.                                                                                     Join us as we talk about the power of digital everywhere.                                                                                       register for free                                                                      register for free                                        \\xa0    \\xa0    \\xa0                                INTRODUCING SALESFORCE DIGITAL 360                                                                                     Grow revenue and relationships with agile innovation across connected digital experiences.                                                                                       See How                                        \\xa0                                MEET COMMERCE CLOUD                                                                                     Grow revenue and relationships with a completely connected digital customer journey.                                                         \\xa0                                Personalize engagement with customer-centric commerce.                                                         \\tUnify data, personalize every interaction, and grow revenue across channels with automation, AI, and a single source of truth.                            Connect commerce to the customer journey.                                                         \\tConvert more customers and drive loyalty with a seamless customer journey from marketing to sales, commerce, fulfillment, service, and beyond. Build with your choice of click- or code-based tools.\\xa0    \\xa0                                Adapt quickly with an agile, scalable, and secure platform.                                                         \\tInnovate at the speed of your customers, scale easily across the globe, and meet any level of demand. Extend your commerce with a partner ecosystem of apps to deliver experiences like augmented reality, marketplaces, and more.                            FEATURED                                                                                     Commerce Cloud Developer Center                                                         \\tDeliver headless commerce faster. Drive transformation in every industry. Explore our APIs, industry kits, documentation, and developer community.                              Get started              \\xa0    \\xa0                                Customer Success Spotlight                                                                                     See how GE Renewable Energy recharged revenue growth with Commerce Cloud.                                                         \\xa0    \\xa0    “We’ve already done 3x more volume through our new platform than we did the entire previous year on the old platform.”        UZAIR MEMON | GLOBAL SALES EXECUTIVE, GE RENEWABLE ENERGY                                                  Watch Video                                        \\xa0                                These Trailblazers are redefining commerce.                                                         \\xa0    \\xa0                                  See all Customer Stories                                        \\xa0    \\xa0    \\xa0                                COMMERCE SOLUTIONS                                                                                     Accelerate revenue across every channel with a connected, trusted platform.                                                         \\xa0                                Exceed your goals — and consumer expectations. Industry leaders use Salesforce B2C Commerce to:                                                                                     Exceed your goals — and customer expectations. Leading brands use Salesforce to:                                                                                     Innovate branded experiences — like payments and embedded commerce — faster with clicks, code, or headless APIs                                                                                     Scale globally with confidence on a composable platform that’s built for peak shopping anytime                                                                                     Increase revenue, productivity, and engagement across channels                                                                                     Connect the customer journey from commerce and marketing to service, social to storefront, subscriptions to curbside pickup, and more                                                                                       Learn More                                                                      See how Sonos fueled 300% YOY growth              \\xa0    \\xa0                                Grow revenue and lower your cost to serve with digital-first ordering. Salesforce B2B Commerce helps you:                                                                                     Make business buying easy. Grow revenue online. Salesforce helps B2B businesses:                                                                                     Get to market faster and increase sales with a digital storefront                                                                                     Give business buyers a personalized, intuitive buying experience                                                                                     Reduce costs, drive efficiency, and customize sites with easy-to-use tools                                                                                       Learn More                                                                      Learn how Markem-Imaje quickly shifted B2B ordering online              \\xa0    \\xa0                                Deliver seamless post-purchase journeys on the world’s #1 CRM. Now you can:                                                                                     Put customers first with order management built on the world’s #1 CRM. Now you can:                                                                                     Connect commerce to service to unify call center and self-service experiences                                                                                     Deliver omni-channel shopping and fulfillment                                                                                      Give customers complete transparency into orders                                                                                       Learn More                                                                      See how Movado and Kathy Kuo Home reinvent customer relationships              \\xa0                                Salesforce is a leader in digital commerce.                                                         \\xa0    Ekta ChopraSix years running, Salesforce is a Leader in the Gartner 2021 Magic Quadrant for Digital Commerce.                              Get the report              IDC MarketScape: Worldwide B2C Digital Commerce Platforms 2020 Vendor AssessmentEkta ChopraIDC MarketScape names Salesforce a Leader in B2C digital commerce.                              Get the report              IDC MarketScape: Worldwide B2C Digital Commerce Platforms 2020 Vendor Assessment\\xa0    \\xa0                                Additional Resources                                                                                     Get everything you need to grow your ecommerce knowledge.                                                         \\xa0    2020 Gartner Magic Quadrant for Digital Commerce                            COMMERCE BLOG                                                                                     Read news, business tips, and thought leadership on our ecommerce blog.                                                                                       Read now              2020 Gartner Magic Quadrant for Digital Commerce2020 Gartner Magic Quadrant for Digital Commerce                            RESOURCE CENTER                                                                                     Discover the latest industry insights. Put them into action. Get results.                                                                                       Learn More              2020 Gartner Magic Quadrant for Digital Commerce2020 Gartner Magic Quadrant for Digital Commerce                            TRAILHEAD                                                                                     Become an ecommerce expert on our fun, free learning platform.                                                                                       Start Now              2020 Gartner Magic Quadrant for Digital Commerce                            Questions? We’ll put you on the right path.                                                         \\tAsk about Salesforce products, pricing, implementation, or anything else. Our highly trained reps are standing by, ready to help. Or, check out our packaging guide to learn more.                              Contact us                                                                      Get the guide              OR CALL                CALL US                            1-            \\xa0    \\xa0                                Create Seamless Experiences with Ecommerce Software                                                         \\tSalesforce Commerce Cloud empowers you to create seamless ecommerce experiences that inspire and convert today's connected shoppers.With our cloud-based ecommerce software, you can go to market faster and smarter — delivering personalized customer experiences across mobile, digital, and social platforms. Whether you’re in B2C or B2B, Commerce Cloud tools can give your business a boost.Commerce Cloud products work to drive growth, strengthen your ecommerce strategy, and enhance your customer base. Start achieving great results with the world’s leading ecommerce software today.\\xa0Watch a demo\\xa0or\\xa0contact us\\xa0for more information about Commerce Cloud.\\xa0                                Related Searches                                                         \\xa0    Partner Relationship Management Solution:\\xa0Deliver the same tools that makes your internal team successful to your partners.Salesforce CRM:\\xa0Salesforce offers a wide variety of CRM categories and systems to meet your business needs at a cost that is scalable to fit any business.\\xa0Finding the Right Collaboration Tools:\\xa0Collaboration tools connect customers, partners, and employees directly to the information, apps, and experts they need.Personalization Solution:\\xa0Match individuals needs and interests with Salesforce personalized business integration software.Experience Builder:\\xa0Empower anyone in your organization to build digital experiences with a point-and-click builder, drag-and-drop components, and out-of-the-box pages, templates, and content.Email Marketing Solution:\\xa0Use data from every department to build smarter email — from basic marketing campaigns to sophisticated 1-to-1 messages.Files Sync and Share:\\xa0Quickly find what you‘re looking for from anywhere, on any device. Share and collaborate on files, publish the best and most relevant content, and track it all in real time.\\xa0Customer Service Management Solution:\\xa0Empower companies to manage all customer information and conversations in the cloud.Business Integration Solution:\\xa0Create and escalate support cases, update opportunities and qualify leads, and collaborate on and share files. Infuse communities with data from any system, anywhere.\\xa0\\xa0\\xa0                                Popular Searches                                                         \\xa0    Data Cleansing SolutionExperience Cloud ResourcesWhat is CRMBenefits of CRMCall Center ManagementSales Lead Tracking Management\\xa0Management and AnalyticsMobile Collaboration Platform\\xa0Self Service PlatformRead More about Commerce Cloud Solutions                            Related Searches                                                         \\xa0    B2C Ecommerce:\\xa0Connect with your customers anytime, and convert anywhere.B2B Ecommerce:\\xa0Deliver exceptional ecommerce experiences tailored to B2B customers.The Best Ecommerce Platform for Your Business:\\xa0Discover the optimal ecommerce platform for your business needs.Ecommerce Website Design:\\xa0Learn how to build the best ecommerce website for your customers.Omni-channel Retail:\\xa0Provide innovative customer experiences across every channel.Connect Your Commerce:\\xa0Connect commerce to sales, service, marketing, and more.                            Popular Searches                                                         \\xa0    B2C Commerce DemoB2B Commerce DemoEconomic Impact of Commerce CloudMore about Commerce CloudCALL US AT                CALL US                            1-                                        Call us at 1-                                                                                     See all ways to contact us >                                                                                     New to Salesforce?                                                         What is CRM?Why Salesforce?Help Desk SoftwareMarketing Automation SoftwareExplore All ProductsWhat is Cloud Computing?Customer SuccessProduct PricingPrivacy for Salesforce Products                            About Salesforce                                                         Our StoryNewsroomBlogCareersTrustSalesforce.orgSustainabilityInvestorsGive us your Feedback                            Popular Links                                                         New Release FeaturesSalesforce for StartupsFind or Become a PartnerCRM SoftwareSalesforce LIVEDreamforceSalesforce MobileNewsletter Sign-UpManage SubscriptionsWORLDWIDE                            Americas                                                         América Latina (Español)Brasil (Português)Canada (English)Canada (Français)United States (English)                            Europe, Middle East, and Africa                                                         España (Español)Deutschland (Deutsch)France (Français)Italia (Italiano)Nederland (Nederlands)Sverige (Svenska)United Kingdom (English)All other countries (English)                            Asia Pacific                                                         Australia (English)India (English)日本 (日本語)中国 (简体中文)香港 (繁體中文)台灣 (繁體中文)한국 (한국어)Malaysia (English)ประเทศไทย (ไทย)All other countries (English)© Copyright 2021 Salesforce.com, inc.\\xa0All rights reserved. Various trademarks held by their respective owners. Salesforce.com, inc. Salesforce Tower, 415 Mission Street, 3rd Floor, San Francisco, CA 94105, United StatesLegalTerms of ServicePrivacy InformationResponsible DisclosureTrustContactCookie Preferences\""
      ]
     },
     "execution_count": 47,
     "metadata": {},
     "output_type": "execute_result"
    }
   ],
   "source": [
    "df['1'][0]"
   ]
  },
  {
   "cell_type": "code",
   "execution_count": 2,
   "metadata": {},
   "outputs": [
    {
     "name": "stderr",
     "output_type": "stream",
     "text": [
      "[nltk_data] Downloading package wordnet to\n",
      "[nltk_data]     C:\\Users\\joshu\\AppData\\Roaming\\nltk_data...\n",
      "[nltk_data]   Package wordnet is already up-to-date!\n",
      "[nltk_data] Downloading package stopwords to\n",
      "[nltk_data]     C:\\Users\\joshu\\AppData\\Roaming\\nltk_data...\n",
      "[nltk_data]   Package stopwords is already up-to-date!\n",
      "[nltk_data] Downloading package punkt to\n",
      "[nltk_data]     C:\\Users\\joshu\\AppData\\Roaming\\nltk_data...\n",
      "[nltk_data]   Package punkt is already up-to-date!\n"
     ]
    }
   ],
   "source": [
    "#DataFlair Project\n",
    "#import all the required libraries\n",
    "import numpy as np\n",
    "import pandas as pd\n",
    "import pickle\n",
    "from statistics import mode\n",
    "import nltk\n",
    "from nltk import word_tokenize\n",
    "from nltk.stem import LancasterStemmer\n",
    "nltk.download('wordnet')\n",
    "nltk.download('stopwords')\n",
    "nltk.download('punkt')\n",
    "from nltk.corpus import stopwords\n",
    "from tensorflow.keras.models import Model\n",
    "from tensorflow.keras import models\n",
    "from tensorflow.keras import backend as K\n",
    "from tensorflow.keras.preprocessing.sequence import pad_sequences\n",
    "from tensorflow.keras.preprocessing.text import Tokenizer \n",
    "from tensorflow.keras.utils import plot_model\n",
    "from tensorflow.keras.layers import Input,LSTM,Embedding,Dense,Concatenate,Attention\n",
    "from sklearn.model_selection import train_test_split\n",
    "from bs4 import BeautifulSoup"
   ]
  },
  {
   "cell_type": "code",
   "execution_count": 3,
   "metadata": {},
   "outputs": [],
   "source": [
    "#read the dataset file for text Summarizer\n",
    "df=pd.read_csv(\"Reviews.csv\",nrows=100000)\n",
    "#drop the duplicate and na values from the records\n",
    "df.drop_duplicates(subset=['Text'],inplace=True)\n",
    "df.dropna(axis=0,inplace=True)\n",
    "input_data = df.loc[:,'Text']\n",
    "target_data = df.loc[:,'Summary']\n",
    "target_data.replace('', np.nan, inplace=True)"
   ]
  },
  {
   "cell_type": "markdown",
   "metadata": {},
   "source": [
    "Preprossessing"
   ]
  },
  {
   "cell_type": "code",
   "execution_count": 6,
   "metadata": {},
   "outputs": [],
   "source": [
    "input_texts=[]\n",
    "target_texts=[]\n",
    "input_words=[]\n",
    "target_words=[]\n",
    "contractions=pickle.load(open(\"contractions.pkl\",\"rb\"))['contractions']\n",
    "#initialize stop words and LancasterStemmer\n",
    "stop_words=set(stopwords.words('english'))\n",
    "stemm=LancasterStemmer()"
   ]
  },
  {
   "cell_type": "code",
   "execution_count": 19,
   "metadata": {},
   "outputs": [
    {
     "data": {
      "text/plain": [
       "120"
      ]
     },
     "execution_count": 19,
     "metadata": {},
     "output_type": "execute_result"
    }
   ],
   "source": [
    "len(contractions.keys())"
   ]
  },
  {
   "cell_type": "code",
   "execution_count": 5,
   "metadata": {},
   "outputs": [],
   "source": [
    "def clean(texts,src):\n",
    "  #remove the html tags\n",
    "  texts = BeautifulSoup(texts, \"lxml\").text\n",
    "  #tokenize the text into words \n",
    "  words=word_tokenize(texts.lower())\n",
    "  #filter words which contains \\ \n",
    "  #integers or their length is less than or equal to 3\n",
    "  words= list(filter(lambda w:(w.isalpha() and len(w)>=3),words))\n",
    "  #contraction file to expand shortened words\n",
    "  words= [contractions[w] if w in contractions else w for w in words ]\n",
    "  #stem the words to their root word and filter stop words\n",
    "  if src==\"inputs\":\n",
    "    words= [stemm.stem(w) for w in words if w not in stop_words]\n",
    "  else:\n",
    "    words= [w for w in words if w not in stop_words]\n",
    "  return words"
   ]
  },
  {
   "cell_type": "code",
   "execution_count": 7,
   "metadata": {},
   "outputs": [
    {
     "name": "stderr",
     "output_type": "stream",
     "text": [
      "c:\\Users\\joshu\\anaconda3\\lib\\site-packages\\bs4\\__init__.py:435: MarkupResemblesLocatorWarning: The input looks more like a filename than markup. You may want to open this file and pass the filehandle into Beautiful Soup.\n",
      "  warnings.warn(\n"
     ]
    },
    {
     "name": "stdout",
     "output_type": "stream",
     "text": [
      "number of input words :  32198\n",
      "number of target words :  14170\n",
      "maximum input length :  74\n",
      "maximum target length :  17\n"
     ]
    }
   ],
   "source": [
    "#pass the input records and taret records\n",
    "for in_txt,tr_txt in zip(input_data,target_data):\n",
    "  in_words= clean(in_txt,\"inputs\")\n",
    "  input_texts+= [' '.join(in_words)]\n",
    "  input_words+= in_words\n",
    "  #add 'sos' at start and 'eos' at end of text\n",
    "  tr_words= clean(\"sos \"+tr_txt+\" eos\",\"target\")\n",
    "  target_texts+= [' '.join(tr_words)]\n",
    "  target_words+= tr_words\n",
    "  #store only unique words from input and target list of words\n",
    "input_words = sorted(list(set(input_words)))\n",
    "target_words = sorted(list(set(target_words)))\n",
    "num_in_words = len(input_words) #total number of input words\n",
    "num_tr_words = len(target_words) #total number of target words\n",
    " \n",
    "#get the length of the input and target texts which appears most often  \n",
    "max_in_len = mode([len(i) for i in input_texts])\n",
    "max_tr_len = mode([len(i) for i in target_texts])\n",
    " \n",
    "print(\"number of input words : \",num_in_words)\n",
    "print(\"number of target words : \",num_tr_words)\n",
    "print(\"maximum input length : \",max_in_len)\n",
    "print(\"maximum target length : \",max_tr_len)"
   ]
  },
  {
   "cell_type": "code",
   "execution_count": 10,
   "metadata": {},
   "outputs": [],
   "source": [
    "#split the input and target text into 80:20 ratio or testing size of 20%.\n",
    "x_train,x_test,y_train,y_test=train_test_split(input_texts,target_texts,test_size=0.2,random_state=0) "
   ]
  },
  {
   "cell_type": "code",
   "execution_count": 11,
   "metadata": {},
   "outputs": [],
   "source": [
    "#train the tokenizer with all the words\n",
    "in_tokenizer = Tokenizer()\n",
    "in_tokenizer.fit_on_texts(x_train)\n",
    "tr_tokenizer = Tokenizer()\n",
    "tr_tokenizer.fit_on_texts(y_train)\n",
    " \n",
    "#convert text into sequence of integers\n",
    "#where the integer will be the index of that word\n",
    "x_train= in_tokenizer.texts_to_sequences(x_train) \n",
    "y_train= tr_tokenizer.texts_to_sequences(y_train)\n",
    "#pad array of 0's if the length is less than the maximum length \n",
    "en_in_data= pad_sequences(x_train,  maxlen=max_in_len, padding='post') \n",
    "dec_data= pad_sequences(y_train,  maxlen=max_tr_len, padding='post')\n",
    " \n",
    "#decoder input data will not include the last word \n",
    "#i.e. 'eos' in decoder input data\n",
    "dec_in_data = dec_data[:,:-1]\n",
    "#decoder target data will be one time step ahead as it will not include\n",
    "# the first word i.e 'sos'\n",
    "dec_tr_data = dec_data.reshape(len(dec_data),max_tr_len,1)[:,1:]"
   ]
  },
  {
   "cell_type": "code",
   "execution_count": 13,
   "metadata": {},
   "outputs": [
    {
     "name": "stdout",
     "output_type": "stream",
     "text": [
      "Model: \"model\"\n",
      "__________________________________________________________________________________________________\n",
      " Layer (type)                   Output Shape         Param #     Connected to                     \n",
      "==================================================================================================\n",
      " input_1 (InputLayer)           [(None, 74)]         0           []                               \n",
      "                                                                                                  \n",
      " embedding (Embedding)          (None, 74, 500)      16099500    ['input_1[0][0]']                \n",
      "                                                                                                  \n",
      " lstm (LSTM)                    [(None, 74, 500),    2002000     ['embedding[0][0]']              \n",
      "                                 (None, 500),                                                     \n",
      "                                 (None, 500)]                                                     \n",
      "                                                                                                  \n",
      " input_2 (InputLayer)           [(None, None)]       0           []                               \n",
      "                                                                                                  \n",
      " lstm_1 (LSTM)                  [(None, 74, 500),    2002000     ['lstm[0][0]']                   \n",
      "                                 (None, 500),                                                     \n",
      "                                 (None, 500)]                                                     \n",
      "                                                                                                  \n",
      " embedding_1 (Embedding)        (None, None, 500)    7085500     ['input_2[0][0]']                \n",
      "                                                                                                  \n",
      " lstm_2 (LSTM)                  [(None, 74, 500),    2002000     ['lstm_1[0][0]']                 \n",
      "                                 (None, 500),                                                     \n",
      "                                 (None, 500)]                                                     \n",
      "                                                                                                  \n",
      " lstm_3 (LSTM)                  [(None, None, 500),  2002000     ['embedding_1[0][0]',            \n",
      "                                 (None, 500),                     'lstm_2[0][1]',                 \n",
      "                                 (None, 500)]                     'lstm_2[0][2]']                 \n",
      "                                                                                                  \n",
      " attention (Attention)          (None, None, 500)    0           ['lstm_3[0][0]',                 \n",
      "                                                                  'lstm_2[0][0]']                 \n",
      "                                                                                                  \n",
      " concat_layer1 (Concatenate)    (None, None, 1000)   0           ['lstm_3[0][0]',                 \n",
      "                                                                  'attention[0][0]']              \n",
      "                                                                                                  \n",
      " dense (Dense)                  (None, None, 14171)  14185171    ['concat_layer1[0][0]']          \n",
      "                                                                                                  \n",
      "==================================================================================================\n",
      "Total params: 45,378,171\n",
      "Trainable params: 45,378,171\n",
      "Non-trainable params: 0\n",
      "__________________________________________________________________________________________________\n",
      "You must install pydot (`pip install pydot`) and install graphviz (see instructions at https://graphviz.gitlab.io/download/) for plot_model/model_to_dot to work.\n"
     ]
    }
   ],
   "source": [
    "K.clear_session() \n",
    "latent_dim = 500\n",
    " \n",
    "#create input object of total number of encoder words\n",
    "en_inputs = Input(shape=(max_in_len,)) \n",
    "en_embedding = Embedding(num_in_words+1, latent_dim)(en_inputs) \n",
    "#create 3 stacked LSTM layer with the shape of hidden dimension for text summarizer using deep learning\n",
    "#LSTM 1\n",
    "en_lstm1= LSTM(latent_dim, return_state=True, return_sequences=True) \n",
    "en_outputs1, state_h1, state_c1= en_lstm1(en_embedding) \n",
    " \n",
    "#LSTM2\n",
    "en_lstm2= LSTM(latent_dim, return_state=True, return_sequences=True) \n",
    "en_outputs2, state_h2, state_c2= en_lstm2(en_outputs1) \n",
    " \n",
    "#LSTM3\n",
    "en_lstm3= LSTM(latent_dim,return_sequences=True,return_state=True)\n",
    "en_outputs3 , state_h3 , state_c3= en_lstm3(en_outputs2)\n",
    " \n",
    "#encoder states\n",
    "en_states= [state_h3, state_c3]\n",
    "\n",
    "# Decoder. \n",
    "dec_inputs = Input(shape=(None,)) \n",
    "dec_emb_layer = Embedding(num_tr_words+1, latent_dim) \n",
    "dec_embedding = dec_emb_layer(dec_inputs) \n",
    " \n",
    "#initialize decoder's LSTM layer with the output states of encoder\n",
    "dec_lstm = LSTM(latent_dim, return_sequences=True, return_state=True)\n",
    "dec_outputs, *_ = dec_lstm(dec_embedding,initial_state=en_states) \n",
    "#Attention layer\n",
    "attention =Attention()\n",
    "attn_out = attention([dec_outputs,en_outputs3])\n",
    " \n",
    "#Concatenate the attention output with the decoder outputs\n",
    "merge=Concatenate(axis=-1, name='concat_layer1')([dec_outputs,attn_out])\n",
    "#Dense layer (output layer)\n",
    "dec_dense = Dense(num_tr_words+1, activation='softmax') \n",
    "dec_outputs = dec_dense(merge) \n",
    "#Model class and model summary for text Summarizer\n",
    "model = Model([en_inputs, dec_inputs], dec_outputs) \n",
    "model.summary()\n",
    "plot_model(model, to_file='model_plot.png', show_shapes=True, show_layer_names=True)"
   ]
  },
  {
   "cell_type": "code",
   "execution_count": 14,
   "metadata": {},
   "outputs": [
    {
     "name": "stdout",
     "output_type": "stream",
     "text": [
      "Epoch 1/10\n",
      "125/125 [==============================] - 1778s 14s/step - loss: 1.5317 - accuracy: 0.8109 - val_loss: 1.2783 - val_accuracy: 0.8335\n",
      "Epoch 2/10\n",
      "125/125 [==============================] - 2154s 17s/step - loss: 1.2446 - accuracy: 0.8338 - val_loss: 1.2094 - val_accuracy: 0.8361\n",
      "Epoch 3/10\n",
      "125/125 [==============================] - 2352s 19s/step - loss: 1.1773 - accuracy: 0.8365 - val_loss: 1.1710 - val_accuracy: 0.8391\n",
      "Epoch 4/10\n",
      "125/125 [==============================] - 2449s 20s/step - loss: 1.1246 - accuracy: 0.8385 - val_loss: 1.1443 - val_accuracy: 0.8406\n",
      "Epoch 5/10\n",
      "125/125 [==============================] - 2464s 20s/step - loss: 1.0815 - accuracy: 0.8405 - val_loss: 1.1240 - val_accuracy: 0.8408\n",
      "Epoch 6/10\n",
      "125/125 [==============================] - 2573s 21s/step - loss: 1.0410 - accuracy: 0.8424 - val_loss: 1.1094 - val_accuracy: 0.8417\n",
      "Epoch 7/10\n",
      "125/125 [==============================] - 2494s 20s/step - loss: 1.0037 - accuracy: 0.8443 - val_loss: 1.1008 - val_accuracy: 0.8425\n",
      "Epoch 8/10\n",
      "125/125 [==============================] - 2480s 20s/step - loss: 0.9681 - accuracy: 0.8461 - val_loss: 1.0921 - val_accuracy: 0.8427\n",
      "Epoch 9/10\n",
      "125/125 [==============================] - 2458s 20s/step - loss: 0.9338 - accuracy: 0.8480 - val_loss: 1.0896 - val_accuracy: 0.8431\n",
      "Epoch 10/10\n",
      "125/125 [==============================] - 2413s 19s/step - loss: 0.8999 - accuracy: 0.8500 - val_loss: 1.0913 - val_accuracy: 0.8423\n"
     ]
    },
    {
     "name": "stderr",
     "output_type": "stream",
     "text": [
      "WARNING:absl:Found untraced functions such as lstm_cell_layer_call_fn, lstm_cell_layer_call_and_return_conditional_losses, lstm_cell_1_layer_call_fn, lstm_cell_1_layer_call_and_return_conditional_losses, lstm_cell_2_layer_call_fn while saving (showing 5 of 8). These functions will not be directly callable after loading.\n"
     ]
    },
    {
     "name": "stdout",
     "output_type": "stream",
     "text": [
      "INFO:tensorflow:Assets written to: s2s\\assets\n"
     ]
    },
    {
     "name": "stderr",
     "output_type": "stream",
     "text": [
      "INFO:tensorflow:Assets written to: s2s\\assets\n",
      "WARNING:absl:<keras.layers.recurrent.LSTMCell object at 0x00000153F4D71670> has the same name 'LSTMCell' as a built-in Keras object. Consider renaming <class 'keras.layers.recurrent.LSTMCell'> to avoid naming conflicts when loading with `tf.keras.models.load_model`. If renaming is not possible, pass the object in the `custom_objects` parameter of the load function.\n",
      "WARNING:absl:<keras.layers.recurrent.LSTMCell object at 0x00000153F4D7CDC0> has the same name 'LSTMCell' as a built-in Keras object. Consider renaming <class 'keras.layers.recurrent.LSTMCell'> to avoid naming conflicts when loading with `tf.keras.models.load_model`. If renaming is not possible, pass the object in the `custom_objects` parameter of the load function.\n",
      "WARNING:absl:<keras.layers.recurrent.LSTMCell object at 0x00000153852A4940> has the same name 'LSTMCell' as a built-in Keras object. Consider renaming <class 'keras.layers.recurrent.LSTMCell'> to avoid naming conflicts when loading with `tf.keras.models.load_model`. If renaming is not possible, pass the object in the `custom_objects` parameter of the load function.\n",
      "WARNING:absl:<keras.layers.recurrent.LSTMCell object at 0x00000153855E8220> has the same name 'LSTMCell' as a built-in Keras object. Consider renaming <class 'keras.layers.recurrent.LSTMCell'> to avoid naming conflicts when loading with `tf.keras.models.load_model`. If renaming is not possible, pass the object in the `custom_objects` parameter of the load function.\n"
     ]
    }
   ],
   "source": [
    "model.compile( \n",
    "    optimizer=\"rmsprop\", loss=\"sparse_categorical_crossentropy\", metrics=[\"accuracy\"] ) \n",
    "model.fit( \n",
    "    [en_in_data, dec_in_data],\n",
    "    dec_tr_data, \n",
    "    batch_size=512, \n",
    "    epochs=10, \n",
    "    validation_split=0.1,\n",
    "    )\n",
    " \n",
    "#Save model\n",
    "model.save(\"s2s\")"
   ]
  },
  {
   "cell_type": "code",
   "execution_count": 12,
   "metadata": {},
   "outputs": [],
   "source": [
    "# encoder inference\n",
    "latent_dim=500\n",
    "#/content/gdrive/MyDrive/Text Summarizer/\n",
    "#load the model\n",
    "model = models.load_model(\"s2s\")\n",
    " \n",
    "#construct encoder model from the output of 6 layer i.e.last LSTM layer\n",
    "en_outputs,state_h_enc,state_c_enc = model.layers[6].output\n",
    "en_states=[state_h_enc,state_c_enc]\n",
    "#add input and state from the layer.\n",
    "en_model = Model(model.input[0],[en_outputs]+en_states)\n",
    "# decoder inference\n",
    "#create Input object for hidden and cell state for decoder\n",
    "#shape of layer with hidden or latent dimension\n",
    "dec_state_input_h = Input(shape=(latent_dim,))\n",
    "dec_state_input_c = Input(shape=(latent_dim,))\n",
    "dec_hidden_state_input = Input(shape=(max_in_len,latent_dim))\n",
    " \n",
    "# Get the embeddings and input layer from the model\n",
    "dec_inputs = model.input[1]\n",
    "dec_emb_layer = model.layers[5]\n",
    "dec_lstm = model.layers[7]\n",
    "dec_embedding= dec_emb_layer(dec_inputs)\n",
    " \n",
    "#add input and initialize LSTM layer with encoder LSTM states.\n",
    "dec_outputs2, state_h2, state_c2 = dec_lstm(dec_embedding, initial_state=[dec_state_input_h,dec_state_input_c])\n",
    "#Attention layer\n",
    "attention = model.layers[8]\n",
    "attn_out2 = attention([dec_outputs2,dec_hidden_state_input])\n",
    " \n",
    "merge2 = Concatenate(axis=-1)([dec_outputs2, attn_out2])\n",
    "#Dense layer\n",
    "dec_dense = model.layers[10]\n",
    "dec_outputs2 = dec_dense(merge2)\n",
    " \n",
    "# Finally define the Model Class\n",
    "dec_model = Model(\n",
    "[dec_inputs] + [dec_hidden_state_input,dec_state_input_h,dec_state_input_c],\n",
    "[dec_outputs2] + [state_h2, state_c2])\n",
    "#create a dictionary with a key as index and value as words.\n",
    "reverse_target_word_index = tr_tokenizer.index_word\n",
    "reverse_source_word_index = in_tokenizer.index_word\n",
    "target_word_index = tr_tokenizer.word_index\n",
    "reverse_target_word_index[0]=' '\n",
    " \n",
    "def decode_sequence(input_seq):\n",
    "    #get the encoder output and states by passing the input sequence\n",
    "    en_out, en_h, en_c= en_model.predict(input_seq)\n",
    " \n",
    "    #target sequence with initial word as 'sos'\n",
    "    target_seq = np.zeros((1, 1))\n",
    "    target_seq[0, 0] = target_word_index['sos']\n",
    " \n",
    "    #if the iteration reaches the end of text than it will be stop the iteration\n",
    "    stop_condition = False\n",
    "    #append every predicted word in decoded sentence\n",
    "    decoded_sentence = \"\"\n",
    "    while not stop_condition: \n",
    "        #get predicted output, hidden and cell state.\n",
    "        output_words, dec_h, dec_c= dec_model.predict([target_seq] + [en_out,en_h, en_c])\n",
    "        \n",
    "        #get the index and from the dictionary get the word for that index.\n",
    "        word_index = np.argmax(output_words[0, -1, :])\n",
    "        text_word = reverse_target_word_index[word_index]\n",
    "        decoded_sentence += text_word +\" \"\n",
    "        # Exit condition: either hit max length\n",
    "      # or find a stop word or last word.\n",
    "        if text_word == \"eos\" or len(decoded_sentence) > max_tr_len:\n",
    "            stop_condition = True\n",
    "      #update target sequence to the current word index.\n",
    "        target_seq = np.zeros((1, 1))\n",
    "        target_seq[0, 0] = word_index\n",
    "        en_h, en_c = dec_h, dec_c\n",
    "    #return the decoded sentence\n",
    "    return decoded_sentence"
   ]
  },
  {
   "cell_type": "code",
   "execution_count": 13,
   "metadata": {},
   "outputs": [
    {
     "name": "stdout",
     "output_type": "stream",
     "text": [
      "Review : Personalization Solution: Match individuals needs and interests with Salesforce personalized business integration software. Experience Builder: Empower anyone in your organization to build digital experiences with a point-and-click builder, drag-and-drop components, and out-of-the-box pages, templates, and content. Email Marketing Solution: Use data from every department to build smarter email — from basic marketing campaigns to sophisticated 1-to-1 messages.\n",
      "\n",
      "Predicted summary: great product  \n",
      "\n",
      "\n"
     ]
    }
   ],
   "source": [
    "inp_review = input(\"Enter : \")\n",
    "print(\"Review :\",inp_review)\n",
    "inp_review = clean(inp_review,\"inputs\")\n",
    "inp_review = ' '.join(inp_review)\n",
    "inp_x= in_tokenizer.texts_to_sequences([inp_review]) \n",
    "inp_x= pad_sequences(inp_x,  maxlen=max_in_len, padding='post')\n",
    " \n",
    "summary=decode_sequence(inp_x.reshape(1,max_in_len))\n",
    "if 'eos' in summary :\n",
    "  summary=summary.replace('eos','')\n",
    "print(\"\\nPredicted summary:\",summary);print(\"\\n\")"
   ]
  }
 ],
 "metadata": {
  "interpreter": {
   "hash": "6c9b5f2fc96e180b8a5a8a696d3f7e4165240dee36d2141e31628b5fa32cbf6e"
  },
  "kernelspec": {
   "display_name": "Python 3.9.12 ('base')",
   "language": "python",
   "name": "python3"
  },
  "language_info": {
   "codemirror_mode": {
    "name": "ipython",
    "version": 3
   },
   "file_extension": ".py",
   "mimetype": "text/x-python",
   "name": "python",
   "nbconvert_exporter": "python",
   "pygments_lexer": "ipython3",
   "version": "3.9.12"
  },
  "orig_nbformat": 4
 },
 "nbformat": 4,
 "nbformat_minor": 2
}
