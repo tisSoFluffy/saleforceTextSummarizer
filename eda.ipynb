{
 "cells": [
  {
   "cell_type": "code",
   "execution_count": 22,
   "metadata": {},
   "outputs": [
    {
     "name": "stderr",
     "output_type": "stream",
     "text": [
      "[nltk_data] Downloading package words to\n",
      "[nltk_data]     C:\\Users\\joshu\\AppData\\Roaming\\nltk_data...\n",
      "[nltk_data]   Package words is already up-to-date!\n",
      "[nltk_data] Downloading package punkt to\n",
      "[nltk_data]     C:\\Users\\joshu\\AppData\\Roaming\\nltk_data...\n",
      "[nltk_data]   Package punkt is already up-to-date!\n",
      "UsageError: Line magic function `%` not found.\n"
     ]
    }
   ],
   "source": [
    "import pandas as pd\n",
    "from nltk.corpus import words\n",
    "from nltk.stem import PorterStemmer\n",
    "import nltk\n",
    "nltk.download('words')\n",
    "nltk.download('punkt')\n",
    "from os import path\n",
    "from PIL import Image\n",
    "#from wordcloud import WordCloud, STOPWORDS, ImageColorGenerator\n",
    "from collections import Counter\n",
    "import matplotlib.pyplot as plt\n",
    "% matplotlib inline"
   ]
  },
  {
   "cell_type": "code",
   "execution_count": 3,
   "metadata": {},
   "outputs": [],
   "source": [
    "ps = PorterStemmer()"
   ]
  },
  {
   "cell_type": "code",
   "execution_count": 4,
   "metadata": {},
   "outputs": [],
   "source": [
    "df = pd.read_csv(\"cleaned_summary.csv\")"
   ]
  },
  {
   "cell_type": "code",
   "execution_count": 84,
   "metadata": {},
   "outputs": [
    {
     "data": {
      "text/plain": [
       "array(['abandon', 'abandoned', 'abandonment', ..., 'yours', 'yourself',\n",
       "       'zero'], dtype=object)"
      ]
     },
     "execution_count": 84,
     "metadata": {},
     "output_type": "execute_result"
    }
   ],
   "source": [
    "from sklearn.feature_extraction.text import CountVectorizer\n",
    "vectorizer = CountVectorizer()\n",
    "vectorizer.fit(df['clean_sent'])\n",
    "vectorizer.get_feature_names_out()"
   ]
  },
  {
   "cell_type": "code",
   "execution_count": 131,
   "metadata": {},
   "outputs": [],
   "source": [
    "#Method to split clean_sent column into words\n",
    "word_list = []\n",
    "def add_words(s):\n",
    "    global word_list\n",
    "    se = s.split(\"', '\")\n",
    "    if isinstance(se, list):\n",
    "        for sen in se:\n",
    "            words = sen.split()\n",
    "            for w in words:\n",
    "                word_list.append(w)"
   ]
  },
  {
   "cell_type": "code",
   "execution_count": 132,
   "metadata": {},
   "outputs": [
    {
     "data": {
      "text/plain": [
       "0      None\n",
       "1      None\n",
       "2      None\n",
       "3      None\n",
       "4      None\n",
       "       ... \n",
       "136    None\n",
       "137    None\n",
       "138    None\n",
       "139    None\n",
       "140    None\n",
       "Name: clean_sent, Length: 141, dtype: object"
      ]
     },
     "execution_count": 132,
     "metadata": {},
     "output_type": "execute_result"
    }
   ],
   "source": [
    "#Apply add_words method to the series 'clean_sent'\n",
    "df['clean_sent'].apply(lambda x: add_words(x))"
   ]
  },
  {
   "cell_type": "code",
   "execution_count": 135,
   "metadata": {},
   "outputs": [],
   "source": [
    "#Create a Counter of the words\n",
    "word_count = Counter(word_list)"
   ]
  },
  {
   "cell_type": "code",
   "execution_count": 139,
   "metadata": {},
   "outputs": [
    {
     "data": {
      "text/plain": [
       "[('and', 3069),\n",
       " ('to', 2462),\n",
       " ('the', 2165),\n",
       " ('a', 1401),\n",
       " ('of', 1248),\n",
       " ('your', 1106),\n",
       " ('with', 1034),\n",
       " ('for', 1007),\n",
       " ('data', 783),\n",
       " ('Tableau', 695),\n",
       " ('in', 640),\n",
       " ('is', 630),\n",
       " ('customer', 582),\n",
       " ('on', 487),\n",
       " ('Cloud', 456),\n",
       " ('that', 439),\n",
       " ('you', 409),\n",
       " ('more', 389),\n",
       " ('or', 381),\n",
       " ('can', 370)]"
      ]
     },
     "execution_count": 139,
     "metadata": {},
     "output_type": "execute_result"
    }
   ],
   "source": [
    "#20 top common words. We need to filter out the noise (and to the a of, etc...)\n",
    "word_count.most_common(20)"
   ]
  },
  {
   "cell_type": "code",
   "execution_count": 60,
   "metadata": {},
   "outputs": [],
   "source": [
    "sents = df['clean_sent'][0].split(\"', '\")"
   ]
  },
  {
   "cell_type": "code",
   "execution_count": 25,
   "metadata": {},
   "outputs": [],
   "source": [
    "#Replace the unnecssary spaces\n",
    "df['summary'].replace(r'\\n+', '\\n', regex=True, inplace=True)\n",
    "df['summary'].replace(r'[ ]+', ' ', regex=True, inplace=True)\n",
    "df['summary'].replace(r'\\xa0', '\\n', regex=True, inplace=True)\n",
    "\n"
   ]
  },
  {
   "cell_type": "code",
   "execution_count": 32,
   "metadata": {},
   "outputs": [],
   "source": [
    "#given a item, split into sentences\n",
    "def clean_sentence(s):\n",
    "    sentences = s.split('.')\n",
    "    wList = []\n",
    "    for sentence in sentences:\n",
    "        ns = []\n",
    "        wo = sentence.split(' ')\n",
    "        [ns.append(w) for w in wo if ps.stem(w.lower()) in words.words()]\n",
    "        wList.append(\" \".join(ns))\n",
    "    return wList\n"
   ]
  },
  {
   "cell_type": "code",
   "execution_count": 33,
   "metadata": {},
   "outputs": [],
   "source": [
    "df['clean_sent'] = df['summary'].apply(lambda x: clean_sentence(x))"
   ]
  },
  {
   "cell_type": "code",
   "execution_count": 34,
   "metadata": {},
   "outputs": [],
   "source": [
    "df.to_csv('cleaned_summary.csv')"
   ]
  },
  {
   "cell_type": "code",
   "execution_count": 80,
   "metadata": {},
   "outputs": [
    {
     "data": {
      "text/plain": [
       "0      ['Stay ahead of your customers with a platform...\n",
       "1      ['', 'to content Cloud and reach your goals fa...\n",
       "2      ['Built on', 'to content Cloud Drive growth wi...\n",
       "3      ['Master with Cloud', 'to content Cloud Master...\n",
       "4      ['How Public Sector Organizations Will Transfo...\n",
       "                             ...                        \n",
       "136    ['And connects us to those customers faster th...\n",
       "137    ['And is an important part of that', 'equal cu...\n",
       "138    ['See how dealers create the test rides for ne...\n",
       "139    ['', 'to Zero is a opened for us that we even ...\n",
       "140    ['In up percent year over year', 'As heats sta...\n",
       "Name: clean_sent, Length: 141, dtype: object"
      ]
     },
     "execution_count": 80,
     "metadata": {},
     "output_type": "execute_result"
    }
   ],
   "source": [
    "df['clean_sent']"
   ]
  },
  {
   "cell_type": "code",
   "execution_count": 21,
   "metadata": {},
   "outputs": [
    {
     "data": {
      "text/plain": [
       "'https://www.salesforce.com/products/commerce-cloud/overview/'"
      ]
     },
     "execution_count": 21,
     "metadata": {},
     "output_type": "execute_result"
    }
   ],
   "source": [
    "df['0'][0]"
   ]
  },
  {
   "cell_type": "code",
   "execution_count": 129,
   "metadata": {},
   "outputs": [
    {
     "data": {
      "text/plain": [
       "\" Stay ahead of your customers with a single, agile commerce platform built on the world's #1 . When you connect Commerce Cloud 360 and Slack, you can collaborate and adapt quickly, unify the customer journey, and drive success from anywhere with customer-centric commerce built for every industry. Convert more customers and drive loyalty with a seamless customer journey from marketing to sales, commerce, fulfillment, service, and beyond. “We’ve already done 3x more volume through our new platform than we did the entire previous year on the old platform.” | , Watch Video \\n These Trailblazers are redefining commerce. Leading brands use Salesforce to: Innovate branded experiences — like payments and embedded commerce — faster with clicks, code, or headless s Scale globally with confidence on a composable platform that’s built for peak shopping anytime Increase revenue, productivity, and engagement across channels Connect the customer journey from commerce and marketing to service, social to storefront, subscriptions to curbside pickup, and more Learn More See how Sonos fueled 300% growth \\n \\n Grow revenue and lower your cost to serve with digital-first ordering. Salesforce helps B2B businesses: Get to market faster and increase sales with a digital storefront Give business buyers a personalized, intuitive buying experience Reduce costs, drive efficiency, and customize sites with easy-to-use tools Learn More Learn how Markem-Imaje quickly shifted B2B ordering online \\n \\n Deliver seamless post-purchase journeys on the world’s #1 . Now you can: Connect commerce to service to unify call center and self-service experiences Deliver omni-channel shopping and fulfillment Give customers complete transparency into orders Learn More See how Movado and Kathy Kuo Home reinvent customer relationships \\n Salesforce is a leader in digital commerce. Ekta ChopraSix years running, Salesforce is a Leader in the Gartner 2021 Magic Quadrant for Digital Commerce. Get the report MarketScape: Worldwide B2C Digital Commerce Platforms 2020 Vendor AssessmentEkta Chopra MarketScape names Salesforce a Leader in B2C digital commerce. Get the report MarketScape: Worldwide B2C Digital Commerce Platforms 2020 Vendor Assessment\\n \\n Additional Resources Get everything you need to grow your ecommerce knowledge. 2020 Gartner Magic Quadrant for Digital Commerce Read news, business tips, and thought leadership on our ecommerce blog. Learn More 2020 Gartner Magic Quadrant for Digital Commerce2020 Gartner Magic Quadrant for Digital Commerce Become an ecommerce expert on our fun, free learning platform. Contact us Get the guide \\n \\n Create Seamless Experiences with Ecommerce Software \\tSalesforce Commerce Cloud empowers you to create seamless ecommerce experiences that inspire and convert today's connected shoppers.With our cloud-based ecommerce software, you can go to market faster and smarter — delivering personalized customer experiences across mobile, digital, and social platforms. Whether you’re in B2C or B2B, Commerce Cloud tools can give your business a boost.Commerce Cloud products work to drive growth, strengthen your ecommerce strategy, and enhance your customer base. Finding the Right Collaboration Tools:\\nCollaboration tools connect customers, partners, and employees directly to the information, apps, and experts they need.Personalization Solution:\\nMatch individuals needs and interests with Salesforce personalized business integration software.Experience Builder:\\nEmpower anyone in your organization to build digital experiences with a point-and-click builder, drag-and-drop components, and out-of-the-box pages, templates, and content.Email Marketing Solution:\\nUse data from every department to build smarter email — from basic marketing campaigns to sophisticated 1-to-1 messages.Files Sync and Share:\\nQuickly find what you‘re looking for from anywhere, on any device. Customer Service Management Solution:\\nEmpower companies to manage all customer information and conversations in the cloud.Business Integration Solution:\\nCreate and escalate support cases, update opportunities and qualify leads, and collaborate on and share files. Popular Searches \\n Data Cleansing SolutionExperience Cloud ResourcesWhat is enefits of all Center ManagementSales Lead Tracking Management\\nManagement and AnalyticsMobile Collaboration Platform\\nSelf Service PlatformRead More about Commerce Cloud Solutions Related Searches \\n B2C Ecommerce:\\nConnect with your customers anytime, and convert anywhere.B2B Ecommerce:\\nDeliver exceptional ecommerce experiences tailored to B2B customers.The Best Ecommerce Platform for Your Business:\\nDiscover the optimal ecommerce platform for your business needs.Ecommerce Website Design:\\nLearn how to build the best ecommerce website for your customers.Omni-channel Retail:\\nProvide innovative customer experiences across every channel.Connect Your Commerce:\\nConnect commerce to sales, service, marketing, and more. What is ?Why Salesforce?Help Desk SoftwareMarketing Automation SoftwareExplore All ProductsWhat is Cloud Computing?Customer SuccessProduct PricingPrivacy for Salesforce Products About Salesforce Our StoryNewsroomBlogCareersTrustSalesforce.orgSustainabilityInvestorsGive us your Feedback Popular Links New Release FeaturesSalesforce for StartupsFind or Become a Partner SoftwareSalesforce reamforceSalesforce MobileNewsletter Sign-UpManage Subscriptions Americas América Latina (Español)Brasil (Português)Canada (English)Canada (Français)United States (English) Europe, Middle East, and Africa España (Español)Deutschland (Deutsch)France (Français)Italia (Italiano)Nederland (Nederlands)Sverige (Svenska)United Kingdom (English)All other countries (English) Asia Pacific Australia (English)India (English)日本 (日本語)中国 (简体中文)香港 (繁體中文)台灣 (繁體中文)한국 (한국어)Malaysia (English)ประเทศไทย (ไทย)All other countries (English)© Copyright 2021 Salesforce.com, inc.\\nAll rights reserved.\""
      ]
     },
     "execution_count": 129,
     "metadata": {},
     "output_type": "execute_result"
    }
   ],
   "source": [
    "#This is the raw text scraped from salesforces's products/commerce-cloud/overview page\n",
    "df['summary'][0]"
   ]
  },
  {
   "cell_type": "code",
   "execution_count": 140,
   "metadata": {},
   "outputs": [
    {
     "data": {
      "text/plain": [
       "\"['Stay ahead of your customers with a platform built on the', 'When you connect Cloud and you can and adapt the customer and drive success from with built for', 'Convert more customers and drive with a seamless customer journey from marketing to and beyond', 'done more through our new platform than we did the year on the old platform', 'Watch Video These are', 'Leading brands use branded like payments and embedded faster with or headless s Scale globally with on a composable platform built for peak shopping and across channels Connect the customer journey from and marketing to social to subscriptions to and more Learn More See how fueled growth Grow and lower your cost to with ordering', 'helps Get to market faster and sales with a digital Give buyers a intuitive buying drive and customize sites with tools Learn More Learn how shifted ordering seamless journeys on the', 'Now you Connect to to call center and shopping and Give customers into orders Learn More See how and Home reinvent customer relationships is a leader in digital', 'years is a Leader in the Magic Quadrant for Digital', 'Get the report Digital Platforms Vendor names a Leader in digital', 'Get the report Digital Platforms Vendor Get you need to grow your', 'Magic Quadrant for Digital Read and thought leadership on our', 'Learn More Magic Quadrant for Digital Magic Quadrant for Digital an expert on our free learning platform', 'Contact us Get the Create Seamless with Cloud you to create seamless that and convert connected shoppers', 'With our you can go to market faster and personalized customer across and social platforms', 'Whether in or Cloud tools can give your a boost', 'Cloud products work to drive strengthen your and your customer base', 'Finding the Right tools connect and to the and experts they need', 'Personalization needs and interests with personalized', 'in your organization to build digital with a and and content', 'Marketing data from department to build from basic marketing campaigns to', 'Files Sync and find what looking for from on any', 'Customer to all customer information and in the cloud', 'and support and and on and share files', 'Popular Searches Data Cloud is of all Center Lead Tracking and More about Cloud Searches with your customers and convert', 'exceptional tailored to customers', 'The Best Platform for Your the platform for your needs', 'how to build the best for your customers', 'customer across channel', 'Connect Your to and more', 'What is Desk All is Cloud for Products About Our', 'us your Feedback Popular Links New for or a Partner Subscriptions States and Kingdom other other Copyright', '', 'rights', '']\""
      ]
     },
     "execution_count": 140,
     "metadata": {},
     "output_type": "execute_result"
    }
   ],
   "source": [
    "#This is the text cleaned\n",
    "df['clean_sent'][0]"
   ]
  }
 ],
 "metadata": {
  "interpreter": {
   "hash": "6c9b5f2fc96e180b8a5a8a696d3f7e4165240dee36d2141e31628b5fa32cbf6e"
  },
  "kernelspec": {
   "display_name": "Python 3.9.12 ('base')",
   "language": "python",
   "name": "python3"
  },
  "language_info": {
   "codemirror_mode": {
    "name": "ipython",
    "version": 3
   },
   "file_extension": ".py",
   "mimetype": "text/x-python",
   "name": "python",
   "nbconvert_exporter": "python",
   "pygments_lexer": "ipython3",
   "version": "3.8.10"
  },
  "orig_nbformat": 4
 },
 "nbformat": 4,
 "nbformat_minor": 2
}
