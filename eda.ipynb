{
 "cells": [
  {
   "cell_type": "code",
   "execution_count": 2,
   "metadata": {},
   "outputs": [
    {
     "name": "stderr",
     "output_type": "stream",
     "text": [
      "[nltk_data] Downloading package words to\n",
      "[nltk_data]     C:\\Users\\joshu\\AppData\\Roaming\\nltk_data...\n",
      "[nltk_data]   Package words is already up-to-date!\n",
      "UsageError: Line magic function `%` not found.\n"
     ]
    }
   ],
   "source": [
    "import pandas as pd\n",
    "from nltk.corpus import words\n",
    "from nltk.stem import PorterStemmer\n",
    "import nltk\n",
    "nltk.download('words')\n",
    "from os import path\n",
    "from PIL import Image\n",
    "from wordcloud import WordCloud, STOPWORDS, ImageColorGenerator\n",
    "\n",
    "import matplotlib.pyplot as plt\n",
    "% matplotlib inline"
   ]
  },
  {
   "cell_type": "code",
   "execution_count": 3,
   "metadata": {},
   "outputs": [],
   "source": [
    "ps = PorterStemmer()"
   ]
  },
  {
   "cell_type": "code",
   "execution_count": 26,
   "metadata": {},
   "outputs": [],
   "source": [
    "df = pd.read_csv(\"cleaned_summary.csv\")"
   ]
  },
  {
   "cell_type": "code",
   "execution_count": 8,
   "metadata": {},
   "outputs": [
    {
     "data": {
      "text/plain": [
       "166"
      ]
     },
     "execution_count": 8,
     "metadata": {},
     "output_type": "execute_result"
    }
   ],
   "source": [
    "from sklearn.feature_extraction.text import CountVectorizer\n",
    "vectorizer = CountVectorizer()\n",
    "vectorizer.fit(df['clean_sent'])\n",
    "vectorizer.get_feature_names_out()"
   ]
  },
  {
   "cell_type": "code",
   "execution_count": 36,
   "metadata": {},
   "outputs": [],
   "source": [
    "word_dict = dict()\n",
    "def add_word(sentences):\n",
    "    for s in sentences:\n",
    "        words = s.split(' ')\n",
    "        for w in words:\n",
    "            if w in word_dict:\n",
    "                word_dict[w] += 1\n",
    "            else:\n",
    "                word_dict[w] = 1    "
   ]
  },
  {
   "cell_type": "code",
   "execution_count": 37,
   "metadata": {},
   "outputs": [
    {
     "data": {
      "text/plain": [
       "0      None\n",
       "1      None\n",
       "2      None\n",
       "3      None\n",
       "4      None\n",
       "       ... \n",
       "136    None\n",
       "137    None\n",
       "138    None\n",
       "139    None\n",
       "140    None\n",
       "Name: clean_sent, Length: 141, dtype: object"
      ]
     },
     "execution_count": 37,
     "metadata": {},
     "output_type": "execute_result"
    }
   ],
   "source": [
    "df['clean_sent'].apply(lambda x: add_word(x))"
   ]
  },
  {
   "cell_type": "code",
   "execution_count": 42,
   "metadata": {},
   "outputs": [
    {
     "data": {
      "text/plain": [
       "dict_values([8, 10, 1249, 1106, 344, 1034, 1402, 99, 41, 487, 2165, 33, 409, 49, 461, 3070, 370, 5, 583, 42, 35, 354, 1010, 2, 389, 23, 57, 168, 2462, 14, 16, 61, 182, 166, 89, 88, 7, 16, 2, 109, 52, 8, 243, 5, 21, 137, 8, 80, 4, 8, 79, 381, 5, 22, 11, 1, 1, 1, 34, 196, 64, 43, 72, 2, 137, 103, 114, 238, 3, 33, 5, 4, 10, 3, 50, 95, 15, 238, 129, 17, 9, 4, 21, 10, 23, 65, 2, 29, 23, 39, 27, 137, 10, 7, 1, 31, 630, 20, 641, 12, 12, 10, 10, 59, 41, 3, 2, 5, 93, 29, 72, 4, 10, 151, 5, 40, 20, 50, 209, 31, 1, 98, 439, 14, 39, 41, 117, 12, 60, 23, 20, 22, 9, 54, 66, 7, 7, 1, 1, 6, 174, 10, 64, 2, 58, 60, 245, 225, 784, 14, 7, 27, 9, 17, 56, 74, 19, 78, 258, 279, 84, 33, 138, 39, 8, 108, 39, 327, 27, 18, 5, 132, 15, 27, 164, 39, 31, 61, 85, 71, 111, 96, 98, 94, 104, 115, 89, 89, 141, 100, 88, 99, 93, 246, 93, 312, 93, 19, 15, 29, 5, 5, 5, 5, 12, 13, 29, 5, 6, 209, 45, 255, 83, 20, 15, 49, 3, 24, 3, 7, 34, 17, 29, 5, 3, 39, 26, 12, 2, 10, 20, 11, 72, 13, 16, 72, 8, 6, 50, 39, 18, 69, 7, 7, 2, 17, 23, 2, 31, 22, 5, 12, 3, 32, 33, 8, 3, 37, 27, 100, 21, 279, 12, 5, 6, 10, 100, 5, 13, 7, 8, 4, 3, 53, 2, 6, 3, 21, 2, 16, 4, 7, 55, 3, 2, 2, 5, 4, 2, 24, 4, 63, 245, 32, 2, 4, 28, 11, 5, 6, 18, 5, 3, 23, 2, 65, 15, 33, 14, 14, 11, 87, 22, 38, 42, 2, 4, 22, 203, 4, 19, 32, 5, 33, 33, 34, 33, 4, 10, 5, 2, 5, 17, 7, 47, 8, 8, 9, 7, 2, 82, 26, 7, 10, 4, 5, 9, 6, 1, 4, 9, 5, 1, 2, 19, 31, 5, 12, 2, 2, 67, 4, 6, 66, 2, 41, 1, 10, 31, 35, 220, 57, 18, 7, 8, 107, 3, 59, 21, 26, 49, 5, 35, 20, 109, 30, 14, 8, 1, 22, 91, 8, 2, 14, 6, 12, 14, 1, 30, 4, 11, 2, 41, 12, 5, 3, 2, 3, 43, 1, 6, 18, 3, 1, 4, 2, 41, 4, 1, 33, 16, 100, 9, 14, 7, 34, 89, 20, 12, 5, 3, 46, 19, 19, 14, 84, 30, 29, 21, 17, 19, 39, 7, 7, 1, 13, 4, 1, 10, 16, 103, 12, 89, 1, 141, 6, 6, 11, 1, 15, 17, 63, 11, 1, 1, 80, 8, 33, 7, 19, 2, 8, 27, 4, 11, 72, 40, 25, 24, 13, 2, 29, 3, 1, 51, 3, 2, 15, 22, 27, 19, 10, 45, 2, 15, 13, 4, 1, 37, 3, 31, 6, 29, 1, 21, 1, 2, 27, 11, 5, 1, 5, 13, 15, 3, 59, 8, 14, 2, 5, 22, 4, 25, 26, 11, 27, 19, 2, 1, 5, 10, 3, 1, 1, 20, 22, 9, 2, 17, 1, 3, 2, 8, 14, 78, 13, 72, 13, 6, 7, 6, 6, 6, 16, 13, 6, 28, 12, 16, 10, 14, 47, 6, 34, 12, 15, 9, 10, 2, 6, 51, 81, 6, 22, 8, 10, 2, 9, 6, 29, 1, 4, 31, 5, 2, 41, 7, 2, 12, 3, 28, 1, 18, 30, 9, 22, 19, 5, 24, 5, 22, 6, 3, 68, 11, 14, 4, 11, 27, 1, 5, 1, 1, 39, 39, 18, 177, 26, 3, 2, 1, 4, 7, 6, 9, 14, 2, 4, 2, 2, 104, 40, 11, 1, 12, 5, 1, 1, 57, 2, 1, 29, 3, 36, 3, 8, 3, 2, 11, 5, 1, 1, 4, 1, 8, 12, 1, 5, 8, 6, 1, 13, 8, 2, 12, 1, 5, 5, 1, 5, 6, 10, 4, 1, 31, 17, 5, 1, 5, 1, 59, 85, 7, 21, 1, 3, 2, 1, 1, 3, 10, 10, 9, 7, 2, 3, 2, 98, 4, 2, 4, 38, 9, 2, 1, 3, 1, 44, 5, 11, 24, 4, 10, 11, 21, 4, 27, 4, 2, 13, 1, 3, 4, 1, 1, 2, 8, 2, 22, 6, 2, 3, 1, 1, 4, 18, 12, 1, 21, 10, 36, 7, 1, 29, 2, 11, 2, 15, 2, 5, 101, 5, 29, 7, 1, 3, 8, 2, 27, 11, 2, 1, 2, 2, 10, 1, 5, 15, 16, 34, 3, 3, 11, 2, 20, 31, 23, 12, 14, 1, 6, 1, 1, 30, 2, 2, 9, 13, 39, 1, 6, 1, 1, 9, 5, 2, 2, 41, 1, 1, 6, 13, 1, 19, 4, 2, 17, 1, 2, 11, 3, 2, 7, 9, 1, 8, 15, 1, 12, 1, 17, 34, 8, 1, 2, 3, 4, 4, 2, 5, 8, 5, 3, 16, 4, 3, 36, 2, 6, 3, 4, 9, 4, 1, 14, 2, 1, 27, 2, 4, 1, 1, 13, 17, 1, 3, 2, 2, 2, 20, 11, 5, 17, 2, 5, 4, 2, 5, 1, 1, 9, 2, 3, 6, 5, 4, 3, 100, 155, 24, 2, 3, 8, 8, 2, 12, 1, 3, 5, 16, 106, 4, 8, 2, 2, 27, 2, 1, 4, 2, 5, 5, 5, 9, 10, 1, 7, 2, 3, 5, 23, 26, 5, 2, 4, 31, 17, 1, 1, 13, 14, 4, 28, 18, 6, 9, 1, 6, 8, 17, 14, 9, 3, 3, 4, 14, 15, 12, 1, 1, 23, 2, 6, 25, 3, 4, 2, 8, 16, 8, 19, 4, 9, 1, 3, 1, 33, 8, 17, 10, 5, 3, 2, 6, 2, 7, 1, 2, 4, 5, 1, 44, 10, 1, 2, 3, 4, 9, 11, 9, 2, 15, 9, 1, 13, 2, 1, 1, 1, 1, 1, 1, 24, 2, 10, 3, 5, 54, 2, 4, 17, 5, 4, 2, 6, 1, 8, 3, 32, 3, 10, 9, 3, 6, 51, 3, 21, 3, 2, 1, 3, 23, 6, 1, 11, 3, 15, 2, 2, 1, 1, 13, 7, 9, 4, 4, 5, 1, 3, 20, 16, 1, 5, 16, 2, 1, 1, 9, 2, 2, 12, 1, 10, 1, 5, 3, 3, 6, 22, 2, 22, 7, 1, 8, 1, 5, 1, 6, 6, 7, 5, 12, 2, 15, 6, 1, 6, 2, 1, 8, 3, 1, 5, 6, 16, 27, 8, 13, 5, 1, 1, 1, 5, 7, 2, 7, 2, 1, 3, 2, 1, 4, 22, 1, 2, 15, 7, 2, 2, 25, 14, 4, 2, 2, 1, 22, 5, 1, 6, 3, 4, 2, 7, 2, 1, 1, 13, 2, 7, 7, 1, 8, 1, 1, 9, 2, 1, 3, 3, 11, 2, 1, 16, 1, 1, 2, 2, 7, 22, 8, 2, 2, 29, 2, 9, 4, 3, 2, 5, 1, 4, 45, 2, 26, 9, 2, 5, 1, 10, 1, 9, 1, 9, 1, 1, 3, 4, 1, 2, 2, 1, 5, 2, 16, 1, 1, 1, 1, 1, 1, 2, 5, 1, 3, 4, 2, 2, 1, 6, 5, 12, 5, 1, 4, 16, 1, 2, 8, 5, 4, 6, 1, 13, 6, 4, 2, 2, 1, 1, 4, 68, 5, 10, 5, 10, 7, 2, 1, 1, 13, 1, 2, 10, 4, 3, 5, 1, 5, 1, 2, 12, 3, 22, 4, 3, 4, 6, 1, 2, 5, 1, 1, 1, 2, 1, 1, 6, 4, 1, 6, 2, 3, 1, 7, 14, 64, 3, 3, 8, 8, 4, 2, 6, 1, 1, 5, 12, 13, 2, 5, 13, 19, 12, 12, 1, 2, 1, 4, 13, 1, 4, 5, 2, 1, 19, 7, 8, 15, 13, 27, 707, 8, 15, 18, 5, 5, 10, 10, 7, 24, 4, 1, 1, 8, 1, 6, 11, 17, 2, 1, 1, 6, 1, 10, 31, 1, 4, 1, 3, 2, 24, 6, 5, 1, 38, 6, 1, 5, 6, 1, 4, 12, 14, 45, 40, 40, 40, 12, 20, 12, 12, 6, 4, 4, 3, 9, 8, 3, 4, 65, 19, 13, 16, 7, 15, 3, 7, 7, 4, 5, 2, 1, 7, 1, 2, 6, 1, 1, 1, 7, 7, 5, 10, 28, 42, 14, 9, 1, 7, 10, 23, 15, 8, 2, 3, 4, 2, 5, 36, 1, 1, 1, 1, 1, 1, 18, 17, 2, 19, 9, 4, 2, 1, 13, 1, 5, 84, 11, 6, 2, 7, 1, 1, 1, 18, 2, 2, 1, 1, 3, 1, 2, 19, 17, 5, 1, 6, 2, 1, 4, 8, 3, 5, 2, 2, 11, 1, 1, 5, 9, 1, 8, 1, 10, 1, 2, 11, 2, 1, 1, 4, 11, 2, 11, 3, 2, 2, 7, 10, 14, 7, 21, 8, 8, 1, 4, 2, 14, 10, 4, 2, 12, 1, 6, 8, 43, 5, 1, 1, 8, 9, 6, 4, 3, 1, 1, 21, 6, 9, 17, 1, 1, 15, 5, 22, 2, 2, 40, 18, 9, 1, 1, 7, 1, 5, 6, 1, 1, 3, 5, 2, 9, 6, 5, 3, 4, 4, 1, 1, 8, 5, 8, 3, 2, 3, 2, 2, 13, 8, 4, 2, 2, 1, 1, 8, 1, 1, 20, 2, 6, 7, 2, 1, 3, 10, 2, 2, 1, 4, 1, 5, 1, 1, 1, 1, 2, 8, 9, 2, 4, 2, 9, 2, 7, 5, 10, 4, 2, 15, 2, 4, 17, 3, 2, 4, 2, 2, 2, 2, 6, 3, 2, 2, 4, 2, 2, 4, 6, 5, 2, 3, 5, 2, 3, 1, 1, 9, 6, 1, 1, 2, 1, 8, 7, 3, 11, 9, 17, 2, 1, 4, 3, 12, 2, 1, 5, 1, 3, 6, 4, 2, 2, 17, 5, 2, 29, 1, 1, 2, 4, 2, 1, 1, 8, 3, 5, 5, 6, 3, 6, 2, 5, 17, 7, 3, 7, 2, 2, 1, 2, 2, 8, 1, 20, 1, 4, 6, 3, 2, 1, 10, 5, 1, 1, 1, 4, 8, 4, 2, 4, 3, 2, 1, 6, 3, 1, 2, 2, 2, 1, 4, 8, 1, 3, 1, 2, 3, 1, 2, 8, 3, 7, 5, 9, 15, 3, 4, 10, 3, 1, 30, 6, 21, 5, 2, 1, 8, 9, 6, 6, 7, 6, 4, 6, 3, 6, 2, 4, 3, 2, 1, 8, 2, 2, 1, 1, 16, 2, 1, 1, 1, 1, 11, 1, 1, 9, 12, 1, 1, 1, 4, 2, 2, 3, 4, 1, 8, 1, 7, 2, 5, 2, 14, 1, 1, 2, 4, 1, 17, 9, 1, 1, 1, 3, 1, 3, 1, 1, 1, 3, 1, 1, 5, 2, 1, 1, 4, 1, 1, 5, 2, 1, 8, 6, 4, 2, 2, 1, 1, 2, 1, 1, 2, 1, 3, 2, 4, 1, 2, 3, 2, 14, 2, 1, 1, 11, 2, 1, 1, 1, 1, 1, 18, 1, 1, 2, 2, 1, 1, 1, 1, 4, 1, 2, 1, 1, 3, 2, 1, 1, 1, 1, 1, 7, 4, 2, 7, 3, 2, 2, 1, 6, 3, 18, 2, 8, 6, 3, 9, 3, 4, 1, 1, 21, 1, 2, 1, 2, 1, 1, 3, 2, 1, 16, 2, 1, 8, 7, 1, 1, 1, 1, 1, 10, 5, 2, 4, 4, 3, 1, 2, 3, 1, 2, 6, 15, 2, 3, 2, 2, 4, 2, 3, 3, 2, 1, 1, 2, 3, 1, 1, 3, 2, 6, 1, 3, 1, 1, 1, 1, 6, 1, 1, 2, 3, 3, 1, 1, 2, 1, 1, 2, 4, 2, 1, 21, 1, 1, 3, 1, 1, 2, 6, 3, 1, 2, 1, 2, 1, 7, 1, 3, 8, 1, 3, 8, 2, 2, 1, 13, 1, 1, 2, 8, 2, 2, 2, 1, 1, 3, 1, 2, 10, 1, 4, 1, 1, 1, 1, 1, 1, 8, 1, 6, 2, 2, 1, 2, 4, 1, 4, 4, 2, 2, 10, 5, 2, 1, 1, 1, 2, 7, 4, 4, 1, 1, 9, 1, 3, 1, 1, 5, 1, 2, 4, 2, 1, 1, 1, 4, 1, 1, 2, 2, 1, 3, 2, 1, 26, 6, 2, 1, 2, 1, 1, 2, 2, 1, 1, 1, 1, 2, 1, 10, 1, 4, 1, 3, 4, 10, 7, 1, 1, 1, 3, 3, 7, 1, 3, 4, 1, 1, 7, 1, 2, 1, 1, 1, 2, 2, 6, 1, 2, 9, 5, 1, 1, 3, 3, 25, 7, 14, 1, 1, 1, 1, 2, 20, 2, 1, 3, 3, 4, 1, 3, 1, 1, 1, 2, 2, 1, 1, 2, 1, 5, 6, 3, 2, 2, 5, 1, 1, 1, 2, 1, 1, 1, 2, 1, 5, 1, 1, 1, 1, 3, 1, 1, 2, 2, 1, 5, 10, 3, 2, 9, 1, 9, 12, 2, 2, 3, 2, 4, 2, 2, 2, 2, 3, 1, 8, 2, 1, 1, 6, 2, 3, 1, 3, 6, 2, 5, 1, 1, 5, 1, 1, 11, 1, 2, 1, 1, 1, 1, 1, 1, 1, 1, 3, 1, 1, 1, 1, 2, 1, 2, 3, 1, 1, 19, 9, 1, 4, 1, 1, 2, 1, 1, 7, 1, 5, 1, 1, 3, 1, 1, 1, 1, 1, 2, 1, 4, 2, 1, 2, 13, 1, 1, 2, 1, 1, 1, 2, 2, 1, 1, 4, 2, 1, 1, 6, 2, 10, 1, 3, 2, 1, 1, 1, 1, 1, 1, 4, 3, 1, 2, 2, 2, 6, 2, 3, 4, 3, 2, 1, 3, 8, 1, 1, 1, 2, 1, 1, 15, 2, 1, 4, 2, 8, 5, 2, 2, 1, 1, 6, 16, 4, 3, 1, 3, 2, 2, 5, 1, 1, 3, 1, 2, 3, 1, 2, 1, 2, 2, 3, 1, 1, 3, 4, 4, 1, 1, 3, 2, 1, 3, 4, 1, 1, 1, 3, 1, 1, 2, 1, 3, 1, 1, 1, 2, 1, 1, 5, 1, 1, 1, 3, 3, 1, 3, 3, 2, 2, 3, 2, 1, 4, 1, 1, 7, 1, 2, 1, 2, 1, 3, 2, 2, 1, 1, 4, 1, 2, 3, 1, 1, 2, 1, 1, 6, 1, 1, 2, 4, 2, 2, 1, 2, 4, 3, 1, 1, 1, 1, 2, 2, 8, 2, 5, 5, 3, 2, 1, 1, 2, 2, 1, 4, 3, 2, 1, 1, 1, 1, 1, 1, 1, 3, 4, 1, 1, 1, 1, 1, 1, 1, 1, 1, 5, 3, 1, 1, 1, 1, 5, 2, 5, 1, 6, 1, 1, 1, 1, 1, 1, 1, 32, 5, 2, 6, 4, 4, 1, 1, 2, 1, 2, 3, 3, 2, 2, 6, 1, 12, 1, 1, 3, 1, 2, 3, 5, 9, 12, 1, 5, 13, 2, 4, 1, 5, 1, 4, 1, 1, 34, 1, 1, 1, 1, 1, 1, 1, 5, 7, 2, 1, 1, 1, 1, 3, 2, 3, 3, 2, 1, 2, 3, 11, 1, 1, 3, 1, 10, 3, 1, 1, 2, 1, 2, 5, 1, 10, 3, 3, 3, 4, 1, 3, 2, 2, 3, 3, 5, 6, 1, 2, 2, 4, 1, 1, 3, 6, 1, 1, 40, 4, 3, 14, 1, 3, 3, 4, 9, 4, 1, 1, 1, 3, 2, 3, 3, 6, 2, 2, 3, 4, 1, 1, 1, 1, 5, 1, 1, 10, 4, 1, 3, 3, 3, 2, 1, 3, 1, 2, 1, 2, 1, 1, 1, 1, 5, 1, 1, 1, 1, 3, 2, 9, 1, 1, 1, 2, 2, 4, 2, 1, 1, 1, 1, 1, 3, 2, 1, 1, 1, 1, 2, 1, 1, 5, 1, 1, 1, 1, 1, 1, 2, 2, 6, 2, 1, 1, 1, 1, 1, 1, 2, 1, 2, 1, 1, 1, 2, 7, 3, 1, 6, 1, 3, 4, 1, 1, 1, 1, 1, 1, 1, 2, 1, 1, 2, 2, 1, 1, 3, 2, 2, 1, 1, 6, 1, 2, 1, 1, 1, 1, 7, 4, 1, 1, 1, 1, 1, 2, 2, 1, 1, 1, 1, 1, 1, 1, 1, 1, 1, 1, 2, 7, 3, 1, 1, 4, 1, 2, 1, 3, 1, 1, 17, 1, 1, 1, 2, 1, 1, 1, 2, 1, 12, 7, 2, 1, 8, 1, 1, 2, 4, 3, 1, 18, 1, 2, 1, 1, 1, 3, 2, 2, 2, 3, 3, 51, 3, 23, 2, 1, 1, 1, 1, 1, 1, 1, 2, 1, 1, 1, 2, 1, 1, 1, 1, 2, 1, 1, 3, 1, 1, 1, 1, 1, 4, 2, 2, 2, 3, 4, 2, 2, 2, 2, 2, 2, 4, 3, 2, 2, 6, 2, 2, 3, 2, 17, 7, 2, 3, 2, 2, 5, 2, 3, 2, 10, 1, 2, 1, 1, 1, 5, 1, 3, 1, 5, 4, 1, 1, 1, 1, 1, 1, 2, 1, 1, 1, 1, 1, 1, 1, 1, 1, 1, 1, 1, 2, 1, 1, 1, 2, 1, 1, 1, 1, 2, 1, 2, 1, 7, 8, 7, 6, 3, 1, 1, 2, 1, 2, 4, 2, 3, 3, 1, 1, 2, 1, 1, 1, 1, 2, 2, 1, 1, 3, 2, 2, 3, 1, 2, 8, 4, 4, 1, 1, 4, 1, 1, 5, 2, 1, 2, 1, 2, 1, 1, 2, 1, 1, 1, 1, 5, 1, 1, 1, 1, 1, 1, 2, 1, 1, 2, 1, 1, 1, 1, 1, 1, 1, 1, 1, 7, 5, 1, 2, 1, 1, 2, 2, 1, 4, 1, 1, 2, 1, 1, 2, 2, 2, 1, 2, 1, 1, 2, 1, 2, 1, 1, 1, 1, 2, 2, 2, 1, 1, 3, 1, 1, 4, 1, 2, 1, 3, 1, 1, 1, 1, 1, 1, 1, 1, 1, 1, 1, 1, 2, 1, 1, 1, 6, 4, 1, 2, 1, 1, 1, 1, 1, 5, 2, 1, 1, 1, 1, 2, 1, 1, 1, 1, 1, 1, 1, 5, 1, 1, 2, 1, 1, 1, 1, 1, 1, 1, 1, 1, 1, 1, 1, 1, 1, 1, 1, 1, 1, 5, 2, 3, 2, 2, 1, 1, 1, 1, 2, 1, 1, 1, 2, 1, 1, 1, 1, 1, 2, 1, 2, 2, 1, 1, 1, 1, 1, 1, 1, 1, 2, 1, 1, 1, 1, 1, 1, 3, 2, 3, 1, 1, 1, 7, 1, 1, 2, 2, 2, 1, 1, 1, 1, 1, 1, 1, 1, 1, 2, 1, 1, 1, 4, 1, 1, 1, 1, 1, 1, 1, 1, 1, 2, 1, 1, 1, 2, 3, 1, 1, 1, 1, 1, 1, 1, 17, 8, 8, 7, 8, 10, 2, 2, 2, 2, 2, 2, 1, 1, 1, 1, 1, 1, 1, 2, 2, 2, 2, 2, 2, 2, 1, 2, 1, 1, 1, 1, 1, 2, 1, 1, 1, 2, 1, 1, 1, 1, 1, 1, 1, 1, 1, 1, 1, 1, 1, 1, 1, 1, 1, 1, 4, 1, 1, 2, 1, 1, 1, 1, 6, 4, 1, 1, 1, 1, 1, 1, 1, 1, 1, 1, 1, 1, 2, 1, 1, 1, 1, 3, 1, 1, 2, 1, 1, 1, 1, 1, 1, 1, 1, 1, 1, 1, 1, 1, 1, 9, 3, 1, 1, 1, 1, 1, 1, 1, 1, 1, 1, 1, 1, 1, 2, 3, 1, 2, 1, 1, 1, 5, 1, 2, 1, 1, 1, 2, 1, 1, 1, 2, 1, 1, 1, 1, 1, 1, 1, 1, 1, 1, 1, 2, 1, 1, 1, 1, 1, 1, 1, 1, 1, 1, 1, 1, 1, 13, 2, 1, 1, 1, 1, 1, 1, 1, 3, 1, 3, 2, 1, 1, 1, 1, 1, 1, 1, 2, 1, 1, 1, 1, 1])"
      ]
     },
     "execution_count": 42,
     "metadata": {},
     "output_type": "execute_result"
    }
   ],
   "source": [
    "word_dict.values()"
   ]
  },
  {
   "cell_type": "code",
   "execution_count": 39,
   "metadata": {},
   "outputs": [
    {
     "data": {
      "text/plain": [
       "array(['about', 'across', 'adapt', 'ahead', 'all', 'an', 'and', 'any',\n",
       "       'are', 'base', 'basic', 'best', 'beyond', 'boost', 'branded',\n",
       "       'brands', 'build', 'built', 'buyers', 'buying', 'call',\n",
       "       'campaigns', 'can', 'center', 'channel', 'channels', 'cloud',\n",
       "       'composable', 'connect', 'connected', 'contact', 'content',\n",
       "       'convert', 'copyright', 'cost', 'create', 'customer', 'customers',\n",
       "       'customize', 'data', 'department', 'desk', 'did', 'digital',\n",
       "       'done', 'drive', 'embedded', 'exceptional', 'expert', 'experts',\n",
       "       'faster', 'feedback', 'files', 'find', 'finding', 'for', 'free',\n",
       "       'from', 'fueled', 'get', 'give', 'globally', 'go', 'grow',\n",
       "       'growth', 'headless', 'helps', 'home', 'how', 'in', 'information',\n",
       "       'interests', 'into', 'intuitive', 'is', 'journey', 'journeys',\n",
       "       'kingdom', 'lead', 'leader', 'leadership', 'leading', 'learn',\n",
       "       'learning', 'like', 'links', 'looking', 'lower', 'magic', 'market',\n",
       "       'marketing', 'more', 'names', 'need', 'needs', 'new', 'now', 'of',\n",
       "       'old', 'on', 'or', 'ordering', 'orders', 'organization', 'other',\n",
       "       'our', 'partner', 'payments', 'peak', 'personalization',\n",
       "       'personalized', 'platform', 'platforms', 'popular', 'products',\n",
       "       'quadrant', 'read', 'reinvent', 'relationships', 'report', 'right',\n",
       "       'rights', 'sales', 'scale', 'seamless', 'searches', 'see', 'share',\n",
       "       'shifted', 'shoppers', 'shopping', 'sites', 'social', 'states',\n",
       "       'stay', 'strengthen', 'subscriptions', 'success', 'support',\n",
       "       'sync', 'tailored', 'than', 'that', 'the', 'these', 'they',\n",
       "       'thought', 'through', 'to', 'tools', 'tracking', 'us', 'use',\n",
       "       'vendor', 'video', 'watch', 'we', 'what', 'when', 'whether',\n",
       "       'with', 'work', 'year', 'years', 'you', 'your'], dtype=object)"
      ]
     },
     "execution_count": 39,
     "metadata": {},
     "output_type": "execute_result"
    }
   ],
   "source": [
    "vectorizer.get_feature_names_out()"
   ]
  },
  {
   "cell_type": "code",
   "execution_count": 25,
   "metadata": {},
   "outputs": [],
   "source": [
    "#Replace the unnecssary spaces\n",
    "df['summary'].replace(r'\\n+', '\\n', regex=True, inplace=True)\n",
    "df['summary'].replace(r'[ ]+', ' ', regex=True, inplace=True)\n",
    "df['summary'].replace(r'\\xa0', '\\n', regex=True, inplace=True)\n",
    "\n"
   ]
  },
  {
   "cell_type": "code",
   "execution_count": 32,
   "metadata": {},
   "outputs": [],
   "source": [
    "#given a item, split into sentences\n",
    "def clean_sentence(s):\n",
    "    sentences = s.split('.')\n",
    "    wList = []\n",
    "    for sentence in sentences:\n",
    "        ns = []\n",
    "        wo = sentence.split(' ')\n",
    "        [ns.append(w) for w in wo if ps.stem(w.lower()) in words.words()]\n",
    "        wList.append(\" \".join(ns))\n",
    "    return wList\n"
   ]
  },
  {
   "cell_type": "code",
   "execution_count": 33,
   "metadata": {},
   "outputs": [],
   "source": [
    "df['clean_sent'] = df['summary'].apply(lambda x: clean_sentence(x))"
   ]
  },
  {
   "cell_type": "code",
   "execution_count": 34,
   "metadata": {},
   "outputs": [],
   "source": [
    "df.to_csv('cleaned_summary.csv')"
   ]
  },
  {
   "cell_type": "code",
   "execution_count": 35,
   "metadata": {},
   "outputs": [
    {
     "data": {
      "text/plain": [
       "0      [Stay ahead of your customers with a platform ...\n",
       "1      [, to content Cloud and reach your goals faste...\n",
       "2      [Built on, to content Cloud Drive growth with ...\n",
       "3      [Master with Cloud, to content Cloud Master th...\n",
       "4      [How Public Sector Organizations Will Transfor...\n",
       "                             ...                        \n",
       "136    [And connects us to those customers faster tha...\n",
       "137    [And is an important part of that, equal custo...\n",
       "138    [See how dealers create the test rides for new...\n",
       "139    [, to Zero is a opened for us that we even kno...\n",
       "140    [In up percent year over year, As heats stays ...\n",
       "Name: clean_sent, Length: 141, dtype: object"
      ]
     },
     "execution_count": 35,
     "metadata": {},
     "output_type": "execute_result"
    }
   ],
   "source": [
    "df['clean_sent']"
   ]
  },
  {
   "cell_type": "code",
   "execution_count": 56,
   "metadata": {},
   "outputs": [
    {
     "name": "stdout",
     "output_type": "stream",
     "text": [
      "['Stay ahead of your customers with a platform built on the', 'When you connect Cloud and you can and adapt the customer and drive success from with built for', 'Convert more customers and drive with a seamless customer journey from marketing to and beyond', 'done more through our new platform than we did the year on the old platform', 'Watch Video These are', 'Leading brands use branded like payments and embedded faster with or headless s Scale globally with on a composable platform built for peak shopping and across channels Connect the customer journey from and marketing to social to subscriptions to and more Learn More See how fueled growth Grow and lower your cost to with ordering', 'helps Get to market faster and sales with a digital Give buyers a intuitive buying drive and customize sites with tools Learn More Learn how shifted ordering seamless journeys on the', 'Now you Connect to to call center and shopping and Give customers into orders Learn More See how and Home reinvent customer relationships is a leader in digital', 'years is a Leader in the Magic Quadrant for Digital', 'Get the report Digital Platforms Vendor names a Leader in digital', 'Get the report Digital Platforms Vendor Get you need to grow your', 'Magic Quadrant for Digital Read and thought leadership on our', 'Learn More Magic Quadrant for Digital Magic Quadrant for Digital an expert on our free learning platform', 'Contact us Get the Create Seamless with Cloud you to create seamless that and convert connected shoppers', 'With our you can go to market faster and personalized customer across and social platforms', 'Whether in or Cloud tools can give your a boost', 'Cloud products work to drive strengthen your and your customer base', 'Finding the Right tools connect and to the and experts they need', 'Personalization needs and interests with personalized', 'in your organization to build digital with a and and content', 'Marketing data from department to build from basic marketing campaigns to', 'Files Sync and find what looking for from on any', 'Customer to all customer information and in the cloud', 'and support and and on and share files', 'Popular Searches Data Cloud is of all Center Lead Tracking and More about Cloud Searches with your customers and convert', 'exceptional tailored to customers', 'The Best Platform for Your the platform for your needs', 'how to build the best for your customers', 'customer across channel', 'Connect Your to and more', 'What is Desk All is Cloud for Products About Our', 'us your Feedback Popular Links New for or a Partner Subscriptions States and Kingdom other other Copyright', '', 'rights', '']\n"
     ]
    }
   ],
   "source": [
    "print(wList)"
   ]
  },
  {
   "cell_type": "code",
   "execution_count": 21,
   "metadata": {},
   "outputs": [
    {
     "data": {
      "text/plain": [
       "'https://www.salesforce.com/products/commerce-cloud/overview/'"
      ]
     },
     "execution_count": 21,
     "metadata": {},
     "output_type": "execute_result"
    }
   ],
   "source": [
    "df['0'][0]"
   ]
  },
  {
   "cell_type": "code",
   "execution_count": 26,
   "metadata": {},
   "outputs": [
    {
     "data": {
      "text/plain": [
       "\" Stay ahead of your customers with a single, agile commerce platform built on the world's #1 . When you connect Commerce Cloud 360 and Slack, you can collaborate and adapt quickly, unify the customer journey, and drive success from anywhere with customer-centric commerce built for every industry. Convert more customers and drive loyalty with a seamless customer journey from marketing to sales, commerce, fulfillment, service, and beyond. “We’ve already done 3x more volume through our new platform than we did the entire previous year on the old platform.” | , Watch Video \\n These Trailblazers are redefining commerce. Leading brands use Salesforce to: Innovate branded experiences — like payments and embedded commerce — faster with clicks, code, or headless s Scale globally with confidence on a composable platform that’s built for peak shopping anytime Increase revenue, productivity, and engagement across channels Connect the customer journey from commerce and marketing to service, social to storefront, subscriptions to curbside pickup, and more Learn More See how Sonos fueled 300% growth \\n \\n Grow revenue and lower your cost to serve with digital-first ordering. Salesforce helps B2B businesses: Get to market faster and increase sales with a digital storefront Give business buyers a personalized, intuitive buying experience Reduce costs, drive efficiency, and customize sites with easy-to-use tools Learn More Learn how Markem-Imaje quickly shifted B2B ordering online \\n \\n Deliver seamless post-purchase journeys on the world’s #1 . Now you can: Connect commerce to service to unify call center and self-service experiences Deliver omni-channel shopping and fulfillment Give customers complete transparency into orders Learn More See how Movado and Kathy Kuo Home reinvent customer relationships \\n Salesforce is a leader in digital commerce. Ekta ChopraSix years running, Salesforce is a Leader in the Gartner 2021 Magic Quadrant for Digital Commerce. Get the report MarketScape: Worldwide B2C Digital Commerce Platforms 2020 Vendor AssessmentEkta Chopra MarketScape names Salesforce a Leader in B2C digital commerce. Get the report MarketScape: Worldwide B2C Digital Commerce Platforms 2020 Vendor Assessment\\n \\n Additional Resources Get everything you need to grow your ecommerce knowledge. 2020 Gartner Magic Quadrant for Digital Commerce Read news, business tips, and thought leadership on our ecommerce blog. Learn More 2020 Gartner Magic Quadrant for Digital Commerce2020 Gartner Magic Quadrant for Digital Commerce Become an ecommerce expert on our fun, free learning platform. Contact us Get the guide \\n \\n Create Seamless Experiences with Ecommerce Software \\tSalesforce Commerce Cloud empowers you to create seamless ecommerce experiences that inspire and convert today's connected shoppers.With our cloud-based ecommerce software, you can go to market faster and smarter — delivering personalized customer experiences across mobile, digital, and social platforms. Whether you’re in B2C or B2B, Commerce Cloud tools can give your business a boost.Commerce Cloud products work to drive growth, strengthen your ecommerce strategy, and enhance your customer base. Finding the Right Collaboration Tools:\\nCollaboration tools connect customers, partners, and employees directly to the information, apps, and experts they need.Personalization Solution:\\nMatch individuals needs and interests with Salesforce personalized business integration software.Experience Builder:\\nEmpower anyone in your organization to build digital experiences with a point-and-click builder, drag-and-drop components, and out-of-the-box pages, templates, and content.Email Marketing Solution:\\nUse data from every department to build smarter email — from basic marketing campaigns to sophisticated 1-to-1 messages.Files Sync and Share:\\nQuickly find what you‘re looking for from anywhere, on any device. Customer Service Management Solution:\\nEmpower companies to manage all customer information and conversations in the cloud.Business Integration Solution:\\nCreate and escalate support cases, update opportunities and qualify leads, and collaborate on and share files. Popular Searches \\n Data Cleansing SolutionExperience Cloud ResourcesWhat is enefits of all Center ManagementSales Lead Tracking Management\\nManagement and AnalyticsMobile Collaboration Platform\\nSelf Service PlatformRead More about Commerce Cloud Solutions Related Searches \\n B2C Ecommerce:\\nConnect with your customers anytime, and convert anywhere.B2B Ecommerce:\\nDeliver exceptional ecommerce experiences tailored to B2B customers.The Best Ecommerce Platform for Your Business:\\nDiscover the optimal ecommerce platform for your business needs.Ecommerce Website Design:\\nLearn how to build the best ecommerce website for your customers.Omni-channel Retail:\\nProvide innovative customer experiences across every channel.Connect Your Commerce:\\nConnect commerce to sales, service, marketing, and more. What is ?Why Salesforce?Help Desk SoftwareMarketing Automation SoftwareExplore All ProductsWhat is Cloud Computing?Customer SuccessProduct PricingPrivacy for Salesforce Products About Salesforce Our StoryNewsroomBlogCareersTrustSalesforce.orgSustainabilityInvestorsGive us your Feedback Popular Links New Release FeaturesSalesforce for StartupsFind or Become a Partner SoftwareSalesforce reamforceSalesforce MobileNewsletter Sign-UpManage Subscriptions Americas América Latina (Español)Brasil (Português)Canada (English)Canada (Français)United States (English) Europe, Middle East, and Africa España (Español)Deutschland (Deutsch)France (Français)Italia (Italiano)Nederland (Nederlands)Sverige (Svenska)United Kingdom (English)All other countries (English) Asia Pacific Australia (English)India (English)日本 (日本語)中国 (简体中文)香港 (繁體中文)台灣 (繁體中文)한국 (한국어)Malaysia (English)ประเทศไทย (ไทย)All other countries (English)© Copyright 2021 Salesforce.com, inc.\\nAll rights reserved.\""
      ]
     },
     "execution_count": 26,
     "metadata": {},
     "output_type": "execute_result"
    }
   ],
   "source": [
    "df['summary'][0]"
   ]
  }
 ],
 "metadata": {
  "interpreter": {
   "hash": "6c9b5f2fc96e180b8a5a8a696d3f7e4165240dee36d2141e31628b5fa32cbf6e"
  },
  "kernelspec": {
   "display_name": "Python 3.9.12 ('base')",
   "language": "python",
   "name": "python3"
  },
  "language_info": {
   "codemirror_mode": {
    "name": "ipython",
    "version": 3
   },
   "file_extension": ".py",
   "mimetype": "text/x-python",
   "name": "python",
   "nbconvert_exporter": "python",
   "pygments_lexer": "ipython3",
   "version": "3.9.12"
  },
  "orig_nbformat": 4
 },
 "nbformat": 4,
 "nbformat_minor": 2
}
